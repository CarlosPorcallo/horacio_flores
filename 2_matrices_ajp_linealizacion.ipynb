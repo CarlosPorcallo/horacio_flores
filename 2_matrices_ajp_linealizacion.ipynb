{
 "cells": [
  {
   "cell_type": "markdown",
   "id": "6ae1ba6e",
   "metadata": {},
   "source": [
    "# Script Análisis Matrices AJP y Linealización"
   ]
  },
  {
   "cell_type": "markdown",
   "id": "d3789240",
   "metadata": {},
   "source": [
    "A continuación se definen las direrentes funciones requeridas para realizar una evaluación multicriterio difusa o clásica, contando con:\n",
    "\n",
    "- Matrices de juicio por pares.\n",
    "- Evaluación de consistencia.\n",
    "- Cálculo de pesos propios.\n",
    "- Ajustes por linealización.\n",
    "\n",
    "### Estructura general del script\n",
    "\n",
    "Cada bloque del script sigue este patrón:\n",
    "\n",
    "1.\tMatrizInicial.- Contiene datos brutos de entrada.\n",
    "2.\tAnális AJP.- Tiene estructuras con fracciones tipo 1/3, 1/5, etc. → forma clásica del método de comparación por pares (AHP/AJP).\n",
    "3.\tLinealización=0 y Linealización~0.1.- Aquí se calcula una forma ajustada de la matriz original, con técnicas como:\n",
    "    -\tLogaritmo de cada entrada.\n",
    "    -\tProyección a matrices consistentes.\n",
    "    -\tCálculo del peso relativo ajustado.\n"
   ]
  },
  {
   "cell_type": "code",
   "execution_count": 1,
   "id": "5ebcc35e",
   "metadata": {},
   "outputs": [],
   "source": [
    "# Importación de librerías\n",
    "import numpy as np\n",
    "import pandas as pd\n",
    "import matplotlib.pyplot as plt"
   ]
  },
  {
   "cell_type": "code",
   "execution_count": 2,
   "id": "fd1bb167",
   "metadata": {},
   "outputs": [],
   "source": [
    "# Funciones para análisis de matrices de juicio por pares\n",
    "\n",
    "# Calcula ln(matrix) para toda la matriz de comparación.\n",
    "def log_transform(matrix):\n",
    "    matrix = np.array(matrix, dtype=float)\n",
    "    return np.log(matrix)\n",
    "\n",
    "# Suma filas/columnas para proyectar a un vector de preferencia.\n",
    "def project_to_vector(matrix_log):\n",
    "    return np.sum(matrix_log, axis=1)\n",
    "\n",
    "# Usa un vector base para reconstruir una matriz consistente.\n",
    "def consistent_matrix_from_vector(vector):\n",
    "    n = len(vector)\n",
    "    mat = np.zeros((n, n))\n",
    "    for i in range(n):\n",
    "        for j in range(n):\n",
    "            mat[i, j] = vector[i] / vector[j]\n",
    "    return mat\n",
    "\n",
    "# Calcula pesos relativos (vía media geométrica o normalización de log-proyecciones).\n",
    "def priority_vector(matrix):\n",
    "    matrix = np.array(matrix, dtype=float)\n",
    "    product = np.prod(matrix, axis=1)\n",
    "    weights = product ** (1 / matrix.shape[0])\n",
    "    return weights / np.sum(weights)\n",
    "\n",
    "def print_matrix(mat, title='', nombre='', datos_contacto='', area_experiencia='', procedencia=''):\n",
    "    df = pd.DataFrame(mat)\n",
    "    if title != '': print(f\"Matríz: {title}\")\n",
    "    if nombre != '': print(f\"Nombre: {nombre}\")\n",
    "    if datos_contacto != '': print(f\"Datos de contacto: {datos_contacto}\")\n",
    "    if area_experiencia != '': print(f\"Área de experiencia: {area_experiencia}\")\n",
    "    if procedencia != '': print(f\"Procedencia: {procedencia}\", \"\\n\")\n",
    "    display(df)\n",
    "    "
   ]
  },
  {
   "cell_type": "markdown",
   "id": "baf31187",
   "metadata": {},
   "source": [
    "Componentes del anális AJP:\n",
    "\n",
    "1.\tMatriz de juicio por pares\n",
    "\t•\tDeclarada previamente como A.\n",
    "2.\tVector propio o de prioridad\n",
    "\t•\tCalculado con priority_vector(A).\n",
    "3.\tCálculo de la razón de consistencia (CR), para lo que se requiere:\n",
    "\t•\tλ_max: valor propio principal.\n",
    "\t•\tÍndice de consistencia (CI):\n",
    "    CI = \\frac{\\lambda_{\\text{max}} - n}{n - 1}\n",
    "\t•\tRazón de consistencia (CR):\n",
    "    CR = \\frac{CI}{RI_n}\n",
    "\n",
    "Donde RI_n es un valor esperado de inconsistencia para matrices aleatorias de orden n."
   ]
  },
  {
   "cell_type": "code",
   "execution_count": 3,
   "id": "52b01069",
   "metadata": {},
   "outputs": [],
   "source": [
    "# Función para analizar consistencia AJP\n",
    "\n",
    "# Índice de consistencia aleatoria (RI) para matrices de tamaño 1 a 10.\n",
    "RI_dict = {\n",
    "    1: 0.00, 2: 0.00, 3: 0.58, 4: 0.90, 5: 1.12,\n",
    "    6: 1.24, 7: 1.32, 8: 1.41, 9: 1.45, 10: 1.49\n",
    "}\n",
    "\n",
    "def ajp_consistency_ratio(matrix):\n",
    "    n = matrix.shape[0]\n",
    "    weights = priority_vector(matrix)\n",
    "    Aw = np.dot(matrix, weights)\n",
    "    lambda_max = np.sum(Aw / weights) / n\n",
    "    CI = (lambda_max - n) / (n - 1)\n",
    "    RI = RI_dict.get(n, 1.49)\n",
    "    CR = CI / RI if RI != 0 else 0\n",
    "    print(f'λ_max = {lambda_max:.4f}')\n",
    "    print(f'CI = {CI:.4f}')\n",
    "    print(f'CR = {CR:.4f}')"
   ]
  },
  {
   "cell_type": "code",
   "execution_count": 4,
   "id": "a03d4e45",
   "metadata": {},
   "outputs": [
    {
     "name": "stdout",
     "output_type": "stream",
     "text": [
      "Matríz: Matriz Inicial\n",
      "Nombre: N/A\n",
      "Datos de contacto: N/A\n",
      "Área de experiencia: Bombeo\n",
      "Procedencia: Michoacán \n",
      "\n"
     ]
    },
    {
     "data": {
      "text/html": [
       "<div>\n",
       "<style scoped>\n",
       "    .dataframe tbody tr th:only-of-type {\n",
       "        vertical-align: middle;\n",
       "    }\n",
       "\n",
       "    .dataframe tbody tr th {\n",
       "        vertical-align: top;\n",
       "    }\n",
       "\n",
       "    .dataframe thead th {\n",
       "        text-align: right;\n",
       "    }\n",
       "</style>\n",
       "<table border=\"1\" class=\"dataframe\">\n",
       "  <thead>\n",
       "    <tr style=\"text-align: right;\">\n",
       "      <th></th>\n",
       "      <th>0</th>\n",
       "      <th>1</th>\n",
       "      <th>2</th>\n",
       "      <th>3</th>\n",
       "    </tr>\n",
       "  </thead>\n",
       "  <tbody>\n",
       "    <tr>\n",
       "      <th>0</th>\n",
       "      <td>1.000000</td>\n",
       "      <td>0.200000</td>\n",
       "      <td>3.000000</td>\n",
       "      <td>5.0</td>\n",
       "    </tr>\n",
       "    <tr>\n",
       "      <th>1</th>\n",
       "      <td>5.000000</td>\n",
       "      <td>1.000000</td>\n",
       "      <td>0.200000</td>\n",
       "      <td>3.0</td>\n",
       "    </tr>\n",
       "    <tr>\n",
       "      <th>2</th>\n",
       "      <td>0.333333</td>\n",
       "      <td>5.000000</td>\n",
       "      <td>1.000000</td>\n",
       "      <td>3.0</td>\n",
       "    </tr>\n",
       "    <tr>\n",
       "      <th>3</th>\n",
       "      <td>0.200000</td>\n",
       "      <td>0.333333</td>\n",
       "      <td>0.333333</td>\n",
       "      <td>1.0</td>\n",
       "    </tr>\n",
       "  </tbody>\n",
       "</table>\n",
       "</div>"
      ],
      "text/plain": [
       "          0         1         2    3\n",
       "0  1.000000  0.200000  3.000000  5.0\n",
       "1  5.000000  1.000000  0.200000  3.0\n",
       "2  0.333333  5.000000  1.000000  3.0\n",
       "3  0.200000  0.333333  0.333333  1.0"
      ]
     },
     "metadata": {},
     "output_type": "display_data"
    }
   ],
   "source": [
    "# --- Matriz Inicial ---\n",
    "\n",
    "# Se setean los diferentes criterios de la matriz inicial\n",
    "nombre = \"N/A\"\n",
    "datos_contacto = \"N/A\"\n",
    "area_experiencia = \"Bombeo\"\n",
    "procedencia = \"Michoacán\"\n",
    "\n",
    "A = np.array([\n",
    "    [1.0, 0.2, 3.0, 5.0],\n",
    "    [5.0, 1.0, 0.2, 3.0],\n",
    "    [0.333333, 5.0, 1.0, 3.0],\n",
    "    [0.2, 0.333333, 0.333333, 1.0]\n",
    "])\n",
    "\n",
    "print_matrix(A, 'Matriz Inicial', nombre, datos_contacto, area_experiencia, procedencia)"
   ]
  },
  {
   "cell_type": "code",
   "execution_count": 5,
   "id": "fc98c252",
   "metadata": {},
   "outputs": [
    {
     "name": "stdout",
     "output_type": "stream",
     "text": [
      "λ_max = 5.9401\n",
      "CI = 0.6467\n",
      "CR = 0.7185\n"
     ]
    }
   ],
   "source": [
    "# --- Análisis de consistencia AJP ---\n",
    "ajp_consistency_ratio(A)"
   ]
  },
  {
   "cell_type": "code",
   "execution_count": 6,
   "id": "02700406",
   "metadata": {},
   "outputs": [
    {
     "name": "stdout",
     "output_type": "stream",
     "text": [
      "Matríz: L(A) - Logaritmo natural\n"
     ]
    },
    {
     "data": {
      "text/html": [
       "<div>\n",
       "<style scoped>\n",
       "    .dataframe tbody tr th:only-of-type {\n",
       "        vertical-align: middle;\n",
       "    }\n",
       "\n",
       "    .dataframe tbody tr th {\n",
       "        vertical-align: top;\n",
       "    }\n",
       "\n",
       "    .dataframe thead th {\n",
       "        text-align: right;\n",
       "    }\n",
       "</style>\n",
       "<table border=\"1\" class=\"dataframe\">\n",
       "  <thead>\n",
       "    <tr style=\"text-align: right;\">\n",
       "      <th></th>\n",
       "      <th>0</th>\n",
       "      <th>1</th>\n",
       "      <th>2</th>\n",
       "      <th>3</th>\n",
       "    </tr>\n",
       "  </thead>\n",
       "  <tbody>\n",
       "    <tr>\n",
       "      <th>0</th>\n",
       "      <td>0.000000</td>\n",
       "      <td>-1.609438</td>\n",
       "      <td>1.098612</td>\n",
       "      <td>1.609438</td>\n",
       "    </tr>\n",
       "    <tr>\n",
       "      <th>1</th>\n",
       "      <td>1.609438</td>\n",
       "      <td>0.000000</td>\n",
       "      <td>-1.609438</td>\n",
       "      <td>1.098612</td>\n",
       "    </tr>\n",
       "    <tr>\n",
       "      <th>2</th>\n",
       "      <td>-1.098613</td>\n",
       "      <td>1.609438</td>\n",
       "      <td>0.000000</td>\n",
       "      <td>1.098612</td>\n",
       "    </tr>\n",
       "    <tr>\n",
       "      <th>3</th>\n",
       "      <td>-1.609438</td>\n",
       "      <td>-1.098613</td>\n",
       "      <td>-1.098613</td>\n",
       "      <td>0.000000</td>\n",
       "    </tr>\n",
       "  </tbody>\n",
       "</table>\n",
       "</div>"
      ],
      "text/plain": [
       "          0         1         2         3\n",
       "0  0.000000 -1.609438  1.098612  1.609438\n",
       "1  1.609438  0.000000 -1.609438  1.098612\n",
       "2 -1.098613  1.609438  0.000000  1.098612\n",
       "3 -1.609438 -1.098613 -1.098613  0.000000"
      ]
     },
     "metadata": {},
     "output_type": "display_data"
    },
    {
     "name": "stdout",
     "output_type": "stream",
     "text": [
      "Proyección (suma filas): [ 1.09861229  1.09861229  1.60943691 -3.80666449]\n",
      "Matríz: Matriz consistente reconstruida\n"
     ]
    },
    {
     "data": {
      "text/html": [
       "<div>\n",
       "<style scoped>\n",
       "    .dataframe tbody tr th:only-of-type {\n",
       "        vertical-align: middle;\n",
       "    }\n",
       "\n",
       "    .dataframe tbody tr th {\n",
       "        vertical-align: top;\n",
       "    }\n",
       "\n",
       "    .dataframe thead th {\n",
       "        text-align: right;\n",
       "    }\n",
       "</style>\n",
       "<table border=\"1\" class=\"dataframe\">\n",
       "  <thead>\n",
       "    <tr style=\"text-align: right;\">\n",
       "      <th></th>\n",
       "      <th>0</th>\n",
       "      <th>1</th>\n",
       "      <th>2</th>\n",
       "      <th>3</th>\n",
       "    </tr>\n",
       "  </thead>\n",
       "  <tbody>\n",
       "    <tr>\n",
       "      <th>0</th>\n",
       "      <td>1.000000</td>\n",
       "      <td>1.000000</td>\n",
       "      <td>0.600001</td>\n",
       "      <td>135.000270</td>\n",
       "    </tr>\n",
       "    <tr>\n",
       "      <th>1</th>\n",
       "      <td>1.000000</td>\n",
       "      <td>1.000000</td>\n",
       "      <td>0.600001</td>\n",
       "      <td>135.000270</td>\n",
       "    </tr>\n",
       "    <tr>\n",
       "      <th>2</th>\n",
       "      <td>1.666665</td>\n",
       "      <td>1.666665</td>\n",
       "      <td>1.000000</td>\n",
       "      <td>225.000225</td>\n",
       "    </tr>\n",
       "    <tr>\n",
       "      <th>3</th>\n",
       "      <td>0.007407</td>\n",
       "      <td>0.007407</td>\n",
       "      <td>0.004444</td>\n",
       "      <td>1.000000</td>\n",
       "    </tr>\n",
       "  </tbody>\n",
       "</table>\n",
       "</div>"
      ],
      "text/plain": [
       "          0         1         2           3\n",
       "0  1.000000  1.000000  0.600001  135.000270\n",
       "1  1.000000  1.000000  0.600001  135.000270\n",
       "2  1.666665  1.666665  1.000000  225.000225\n",
       "3  0.007407  0.007407  0.004444    1.000000"
      ]
     },
     "metadata": {},
     "output_type": "display_data"
    }
   ],
   "source": [
    "# --- Análisis: Linealización = 0 ---\n",
    "L_A = log_transform(A)\n",
    "print_matrix(L_A, 'L(A) - Logaritmo natural')\n",
    "\n",
    "proj = project_to_vector(L_A)\n",
    "print('Proyección (suma filas):', proj)\n",
    "\n",
    "reconstruida = consistent_matrix_from_vector(np.exp(proj))\n",
    "print_matrix(reconstruida, 'Matriz consistente reconstruida')"
   ]
  },
  {
   "cell_type": "code",
   "execution_count": 7,
   "id": "ecdba76c",
   "metadata": {},
   "outputs": [
    {
     "name": "stdout",
     "output_type": "stream",
     "text": [
      "Vector de prioridad (normalizado): [0.29158008 0.29158008 0.33129886 0.08554098]\n"
     ]
    }
   ],
   "source": [
    "# --- Análisis: Linealización ~0.1 ---\n",
    "vp = priority_vector(A)\n",
    "print('Vector de prioridad (normalizado):', vp)"
   ]
  },
  {
   "cell_type": "code",
   "execution_count": 8,
   "id": "785d53ad",
   "metadata": {},
   "outputs": [
    {
     "data": {
      "image/png": "[encoded data removed]",
      "text/plain": [
       "<Figure size 1000x500 with 1 Axes>"
      ]
     },
     "metadata": {},
     "output_type": "display_data"
    }
   ],
   "source": [
    "# Comparación del vector de prioridad original vs normalizado como gráfico de barras\n",
    "product = np.prod(A, axis=1)\n",
    "vp_original = product ** (1 / A.shape[0])\n",
    "vp_normalizado = vp_original / np.sum(vp_original)\n",
    "criterios = [f'C{i+1}' for i in range(len(vp_original))]\n",
    "x = np.arange(len(criterios))\n",
    "plt.figure(figsize=(10, 5))\n",
    "plt.bar(x - 0.2, vp_original, width=0.4, label='Original', color='lightcoral')\n",
    "plt.bar(x + 0.2, vp_normalizado, width=0.4, label='Normalizado', color='skyblue')\n",
    "plt.xticks(x, criterios)\n",
    "plt.xlabel('Criterios')\n",
    "plt.ylabel('Peso')\n",
    "plt.title('Comparación del vector de prioridad')\n",
    "plt.legend()\n",
    "plt.grid(axis='y')\n",
    "plt.show()"
   ]
  }
 ],
 "metadata": {
  "kernelspec": {
   "display_name": "Python 3 (ipykernel)",
   "language": "python",
   "name": "python3"
  },
  "language_info": {
   "codemirror_mode": {
    "name": "ipython",
    "version": 3
   },
   "file_extension": ".py",
   "mimetype": "text/x-python",
   "name": "python",
   "nbconvert_exporter": "python",
   "pygments_lexer": "ipython3",
   "version": "3.13.5"
  }
 },
 "nbformat": 4,
 "nbformat_minor": 5
}
