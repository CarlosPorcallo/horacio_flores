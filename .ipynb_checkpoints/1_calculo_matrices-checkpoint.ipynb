{
 "cells": [
  {
   "cell_type": "markdown",
   "id": "f4e9b698-e05a-463d-a8f6-1dc2a58e4206",
   "metadata": {},
   "source": [
    "## se importan las librerías a usar"
   ]
  },
  {
   "cell_type": "code",
   "execution_count": 4,
   "id": "0fa2f61c-60ec-43f0-b3b5-56ec2feb0dd0",
   "metadata": {},
   "outputs": [],
   "source": [
    "import pandas as pd, numpy as np"
   ]
  },
  {
   "cell_type": "markdown",
   "id": "e602e4e9-894a-42b7-8594-6d87504ffb1d",
   "metadata": {},
   "source": [
    "## se setean algunas constantes a usar"
   ]
  },
  {
   "cell_type": "code",
   "execution_count": 16,
   "id": "37cf0a2c-7f4c-4449-a303-ba57f8151ffa",
   "metadata": {},
   "outputs": [],
   "source": [
    "# caracteres diversos\n",
    "VIN = \"- \" * 1 # viñeta\n",
    "CHARF = \"\\n\" * 1 # saltos de línea\n",
    "\n",
    "# valores para cálculos\n",
    "RANGON = [0,1] # rango de normalización "
   ]
  },
  {
   "cell_type": "markdown",
   "id": "33e75f0b-5315-4a96-aee3-f9f5f6acf6a8",
   "metadata": {},
   "source": [
    "## se imprimen los datos de la matriz inicial"
   ]
  },
  {
   "cell_type": "code",
   "execution_count": 29,
   "id": "2ac33a07-c74f-470d-bd86-8a47f061dd1d",
   "metadata": {},
   "outputs": [
    {
     "ename": "TypeError",
     "evalue": "imprimir_datos() missing 1 required positional argument: 'matriz'",
     "output_type": "error",
     "traceback": [
      "\u001b[0;31m---------------------------------------------------------------------------\u001b[0m",
      "\u001b[0;31mTypeError\u001b[0m                                 Traceback (most recent call last)",
      "Cell \u001b[0;32mIn[29], line 29\u001b[0m\n\u001b[1;32m     26\u001b[0m     \u001b[38;5;66;03m# suma de las columnas de la matríz normalizada\u001b[39;00m\n\u001b[1;32m     27\u001b[0m     \u001b[38;5;28mprint\u001b[39m(VIN, \u001b[38;5;124m\"\u001b[39m\u001b[38;5;124mSuma de las columnas de la matríz: \u001b[39m\u001b[38;5;124m\"\u001b[39m, numpy\u001b[38;5;241m.\u001b[39msum(matriz_n, axis\u001b[38;5;241m=\u001b[39m \u001b[38;5;241m0\u001b[39m), end\u001b[38;5;241m=\u001b[39mCHARF)\n\u001b[0;32m---> 29\u001b[0m imprimir_datos()\n",
      "\u001b[0;31mTypeError\u001b[0m: imprimir_datos() missing 1 required positional argument: 'matriz'"
     ]
    }
   ],
   "source": [
    "def normalizar_matriz_2d(matriz):\n",
    "    norm = np.linalg.norm(matriz)\n",
    "    matriz_n = matriz/norm  # matriz_normaliada\n",
    "    return matriz_n\n",
    "\n",
    "def imprimir_datos(matriz):\n",
    "    # matriz inicial\n",
    "    print(VIN, \"Matríz inicial: \", matriz, end=CHARF)\n",
    "    \n",
    "    # dimensión de la matríz\n",
    "    print(VIN, \"Dimensión de la matríz: \", matriz.ndim, end=CHARF)\n",
    "\n",
    "    # tamaño de la matríz\n",
    "    print(VIN, \"Tamaño de la matríz: \", matriz.shape, end=CHARF)\n",
    "\n",
    "    # suma de las columnas de la matríz\n",
    "    print(VIN, \"Suma de las columnas de la matríz: \", numpy.sum(matriz, axis= 0), end=CHARF)\n",
    "\n",
    "    # matríz normalizada\n",
    "    matriz_n = normalizar_matriz_2d(matrizA)\n",
    "    print(VIN, \"Matríz normalizada: \", matriz_n, end=CHARF)\n",
    "    \n",
    "    # suma de las filas de la matríz normalizada\n",
    "    print(VIN, \"Suma de las columnas de la matríz: \", numpy.sum(matriz_n, axis= 1), end=CHARF)\n",
    "    \n",
    "    # suma de las columnas de la matríz normalizada\n",
    "    print(VIN, \"Suma de las columnas de la matríz: \", numpy.sum(matriz_n, axis= 0), end=CHARF)"
   ]
  },
  {
   "cell_type": "markdown",
   "id": "284576e9-bead-4b6c-863a-d903d7212e7b",
   "metadata": {},
   "source": [
    "## se imprime la suma de las columnas de la matriz"
   ]
  },
  {
   "cell_type": "markdown",
   "id": "6f86f4d7-9508-49ce-8893-d436c4e0681e",
   "metadata": {},
   "source": [
    "## se imprime la matriz normalizada"
   ]
  },
  {
   "cell_type": "markdown",
   "id": "2cba43be-f926-40ab-96ef-93328b98c5b4",
   "metadata": {},
   "source": [
    "## se imprime la suma de las filas de la matríz normalizada"
   ]
  },
  {
   "cell_type": "markdown",
   "id": "e3a0fbd5-ea3d-4744-9704-e0c1342122f5",
   "metadata": {},
   "source": [
    "## se imprime el promedio de fila (pesos(Wi))"
   ]
  },
  {
   "cell_type": "markdown",
   "id": "c6985670-0d0e-4e8f-9931-c0f4cc57989a",
   "metadata": {},
   "source": [
    "## se imprime el promedio de filas"
   ]
  },
  {
   "cell_type": "markdown",
   "id": "1059811d-a17a-4ed4-b372-dd02ceede673",
   "metadata": {},
   "source": [
    "## se imprime el total de filas"
   ]
  },
  {
   "cell_type": "markdown",
   "id": "b4ac7f7b-713c-4205-8081-948b490d2e31",
   "metadata": {},
   "source": [
    "## se imprime el auto valor"
   ]
  },
  {
   "cell_type": "markdown",
   "id": "0e7ccf38-3bb0-4cb5-928f-69192cd418e6",
   "metadata": {},
   "source": [
    "## se imprime el valor máximo de lambda"
   ]
  },
  {
   "cell_type": "markdown",
   "id": "c90a4e09-00d5-4be1-8653-abdd443cc54e",
   "metadata": {},
   "source": [
    "## se imprime el índice de consistencia"
   ]
  },
  {
   "cell_type": "markdown",
   "id": "4670234c-0c0c-4294-82e9-84d7bcc1555a",
   "metadata": {},
   "source": [
    "## se imprime la relación de consistencia"
   ]
  },
  {
   "cell_type": "markdown",
   "id": "299c1b5d-369b-4f2a-a6a8-47aa7ebe096d",
   "metadata": {},
   "source": [
    "## comienza la ejecución de todas las tareas"
   ]
  },
  {
   "cell_type": "code",
   "execution_count": null,
   "id": "180f97f6-1e17-4d56-aa62-4a8588de7049",
   "metadata": {},
   "outputs": [],
   "source": [
    "## se setea la matriz inicial\n",
    "matriz = np.array([\n",
    "    [1, 1/7, 5, 1/9],\n",
    "    [7, 1, 7, 1/7],\n",
    "    [1/5, 1/7, 11, 1/7],\n",
    "    [9, 7, 7, 1]\n",
    "], float)\n",
    "\n",
    "def realiza_calculos():\n",
    "    imprimir_datos(matriz)"
   ]
  }
 ],
 "metadata": {
  "kernelspec": {
   "display_name": "Python 3 (ipykernel)",
   "language": "python",
   "name": "python3"
  },
  "language_info": {
   "codemirror_mode": {
    "name": "ipython",
    "version": 3
   },
   "file_extension": ".py",
   "mimetype": "text/x-python",
   "name": "python",
   "nbconvert_exporter": "python",
   "pygments_lexer": "ipython3",
   "version": "3.12.7"
  }
 },
 "nbformat": 4,
 "nbformat_minor": 5
}
