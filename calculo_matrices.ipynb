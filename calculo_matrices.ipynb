{
 "cells": [
  {
   "cell_type": "markdown",
   "id": "a98255b0-cbf1-45ef-8195-cef3b14079ea",
   "metadata": {},
   "source": [
    "# Script Análisis de Matrices"
   ]
  },
  {
   "cell_type": "code",
   "execution_count": null,
   "id": "57bd8d3c-7a89-437b-a234-084535c06ffb",
   "metadata": {},
   "outputs": [],
   "source": [
    "A continuación se definen las diferentes funciones requeridas para realizar una evaluación multicriterio difusa o clásica, contando con:\n",
    "\n",
    "- Matrices de juicio por pares.\n",
    "- Evaluación de consistencia.\n",
    "- Cálculo de pesos propios.\n",
    "- Ajustes por linealización.\n",
    "\n",
    "### Estructura general del script\n",
    "\n",
    "Cada bloque del script sigue este patrón:\n",
    "\n",
    "1.\tMatrizInicial.- Contiene datos brutos de entrada.\n",
    "2.\tAnálisis de matrices.- Aquí se calculan algunos parámetros útiles para el posterior análisis.\n",
    "3.  Evaluación de la calidad de los datos de la matriz.- Se buscará validar la consistencia de los datos a fin de pasar a posteriores an´\n"
   ]
  },
  {
   "cell_type": "markdown",
   "id": "f4e9b698-e05a-463d-a8f6-1dc2a58e4206",
   "metadata": {},
   "source": [
    "## Se importan las librerías a usar"
   ]
  },
  {
   "cell_type": "code",
   "execution_count": 6,
   "id": "0fa2f61c-60ec-43f0-b3b5-56ec2feb0dd0",
   "metadata": {},
   "outputs": [],
   "source": [
    "import pandas as pd, numpy as np"
   ]
  },
  {
   "cell_type": "markdown",
   "id": "e602e4e9-894a-42b7-8594-6d87504ffb1d",
   "metadata": {},
   "source": [
    "## Se setean algunas constantes a usar"
   ]
  },
  {
   "cell_type": "code",
   "execution_count": 7,
   "id": "37cf0a2c-7f4c-4449-a303-ba57f8151ffa",
   "metadata": {},
   "outputs": [],
   "source": [
    "# caracteres diversos\n",
    "VIN = \"- \" * 1 # viñeta\n",
    "CHARF = \"\\n\" * 1 # saltos de línea\n",
    "\n",
    "# valores para cálculos\n",
    "RANGON = [0,1] # rango de normalización "
   ]
  },
  {
   "cell_type": "markdown",
   "id": "33e75f0b-5315-4a96-aee3-f9f5f6acf6a8",
   "metadata": {},
   "source": [
    "## Se imprimen los datos de la matriz inicial y las diferentes operaciones"
   ]
  },
  {
   "cell_type": "code",
   "execution_count": 8,
   "id": "2ac33a07-c74f-470d-bd86-8a47f061dd1d",
   "metadata": {},
   "outputs": [],
   "source": [
    "# impresión de los resultados\n",
    "def imprimir_datos(array_inicial, matriz):\n",
    "    # matriz inicial\n",
    "    print(VIN, \"Matríz inicial: \", matriz, end=CHARF)\n",
    "    \n",
    "    # dimensión de la matríz\n",
    "    print(VIN, \"Dimensión de la matríz: \", matriz.shape, end=CHARF)\n",
    "\n",
    "    # tamaño de la matríz\n",
    "    print(VIN, \"Tamaño de la matríz: \", matriz.size, end=CHARF)\n",
    "\n",
    "    # suma de las columnas de la matríz\n",
    "    suma_columnas = matriz.sum(axis= 0)\n",
    "    print(VIN, \"Suma de las columnas de la matríz: \", suma_columnas, end=CHARF)\n",
    "\n",
    "    # suma de las filas de la matríz\n",
    "    suma_filas = matriz.sum(axis= 1)\n",
    "    print(VIN, \"Suma de las filas de la matríz: \", suma_filas, end=CHARF)\n",
    "\n",
    "    # matríz normalizada\n",
    "    matriz_n = matriz / suma_columnas\n",
    "    print(VIN, \"Matríz normalizada: \", matriz_n, end=CHARF)\n",
    "    \n",
    "    # suma de las filas de la matríz normalizada\n",
    "    sum_filas_matriz_n = matriz_n.sum(axis=1)\n",
    "    print(VIN, \"Suma de las filas de la matríz: \", sum_filas_matriz_n.round(4), end=CHARF)\n",
    "    \n",
    "    # suma de las columnas de la matríz normalizada\n",
    "    suma_cols_matriz_n = matriz_n.sum(axis= 0)\n",
    "    print(VIN, \"Suma de las columnas de la matríz: \", suma_cols_matriz_n.round(4), end=CHARF)\n",
    "\n",
    "    # pesos (Wi)\n",
    "    fila_promedio = matriz.mean(axis=1) # promedio de fila\n",
    "    pesos = fila_promedio / fila_promedio.sum() # pesos normalizados\n",
    "    print(VIN, \"Promedio filas: \", fila_promedio.round(4), end=CHARF)\n",
    "    print(VIN, \"Pesos (Wi): \", pesos.round(4), end=CHARF)\n",
    "    \n",
    "    # autovalor (lambda)\n",
    "    producto_matriz = array_inicial @ pesos\n",
    "    autovalores = producto_matriz / pesos\n",
    "    print(VIN, \"Autovalores: \", autovalores.round(4), end=CHARF)\n",
    "\n",
    "    # lambda max\n",
    "    lambda_max = autovalores.mean()\n",
    "    print(VIN, \"Lambda max: \", lambda_max.round(4), end=CHARF)\n",
    "\n",
    "    # índice de consistencia (CI)\n",
    "    n = matriz.shape[0]\n",
    "    CI = (lambda_max - n) / (n - 1)\n",
    "    print(VIN, \"Índice de consistencia (CI): \", CI.round(4), end=CHARF)\n",
    "\n",
    "    # relación de consistencia (CR)\n",
    "    # Valores de RI para n = 1 hasta 10\n",
    "    RI_dict = {1: 0.00, 2: 0.00, 3: 0.58, 4: 0.90, 5: 1.12, 6: 1.24, 7: 1.32, 8: 1.41, 9: 1.45, 10: 1.49}\n",
    "    RI = RI_dict[n]\n",
    "    CR = CI / RI if RI != 0 else 0\n",
    "    print(VIN, \"Relación de consistencia (CR): \", CR.round(4), end=CHARF)\n",
    "    \n"
   ]
  },
  {
   "cell_type": "markdown",
   "id": "66004024-a9db-4ae3-8211-2e02c9c33967",
   "metadata": {},
   "source": [
    "## Se setea la matriz inicial"
   ]
  },
  {
   "cell_type": "code",
   "execution_count": 9,
   "id": "74ccb0ee-b4bc-49fa-bd19-4450cc543ba2",
   "metadata": {},
   "outputs": [],
   "source": [
    "array_inicial = [\n",
    "    [1, 1/7, 5, 1/9],\n",
    "    [7, 1, 7, 1/7],\n",
    "    [1/5, 1/7, 11, 1/7],\n",
    "    [9, 7, 7, 1]\n",
    "]"
   ]
  },
  {
   "cell_type": "markdown",
   "id": "299c1b5d-369b-4f2a-a6a8-47aa7ebe096d",
   "metadata": {},
   "source": [
    "## Comienza la ejecución de todas las tareas"
   ]
  },
  {
   "cell_type": "code",
   "execution_count": 10,
   "id": "180f97f6-1e17-4d56-aa62-4a8588de7049",
   "metadata": {},
   "outputs": [
    {
     "name": "stdout",
     "output_type": "stream",
     "text": [
      "-  Matríz inicial:  [[ 1.          0.14285714  5.          0.11111111]\n",
      " [ 7.          1.          7.          0.14285714]\n",
      " [ 0.2         0.14285714 11.          0.14285714]\n",
      " [ 9.          7.          7.          1.        ]]\n",
      "-  Dimensión de la matríz:  (4, 4)\n",
      "-  Tamaño de la matríz:  16\n",
      "-  Suma de las columnas de la matríz:  [17.2         8.28571429 30.          1.3968254 ]\n",
      "-  Suma de las filas de la matríz:  [ 6.25396825 15.14285714 11.48571429 24.        ]\n",
      "-  Matríz normalizada:  [[0.05813953 0.01724138 0.16666667 0.07954545]\n",
      " [0.40697674 0.12068966 0.23333333 0.10227273]\n",
      " [0.01162791 0.01724138 0.36666667 0.10227273]\n",
      " [0.52325581 0.84482759 0.23333333 0.71590909]]\n",
      "-  Suma de las filas de la matríz:  [0.3216 0.8633 0.4978 2.3173]\n",
      "-  Suma de las columnas de la matríz:  [1. 1. 1. 1.]\n",
      "-  Promedio filas:  [1.5635 3.7857 2.8714 6.    ]\n",
      "-  Pesos (Wi):  [0.1099 0.2662 0.2019 0.4219]\n",
      "-  Autovalores:  [10.955   9.4268 11.5958 11.1119]\n",
      "-  Lambda max:  10.7724\n",
      "-  Índice de consistencia (CI):  2.2575\n",
      "-  Relación de consistencia (CR):  2.5083\n"
     ]
    }
   ],
   "source": [
    "def realiza_calculos():\n",
    "    # se setea la matriz inicial\n",
    "    matriz = np.array(array_inicial, float)\n",
    "\n",
    "    # se imprimen los datos de la matriz inicial y la matriz normalizada\n",
    "    imprimir_datos(array_inicial, matriz)\n",
    "\n",
    "realiza_calculos()"
   ]
  }
 ],
 "metadata": {
  "kernelspec": {
   "display_name": "Python 3 (ipykernel)",
   "language": "python",
   "name": "python3"
  },
  "language_info": {
   "codemirror_mode": {
    "name": "ipython",
    "version": 3
   },
   "file_extension": ".py",
   "mimetype": "text/x-python",
   "name": "python",
   "nbconvert_exporter": "python",
   "pygments_lexer": "ipython3",
   "version": "3.12.7"
  }
 },
 "nbformat": 4,
 "nbformat_minor": 5
}
