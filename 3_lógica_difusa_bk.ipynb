{
 "cells": [
  {
   "cell_type": "markdown",
   "id": "f4e9b698-e05a-463d-a8f6-1dc2a58e4206",
   "metadata": {},
   "source": [
    "## Se importan las librerías a usar"
   ]
  },
  {
   "cell_type": "code",
   "execution_count": null,
   "id": "0fa2f61c-60ec-43f0-b3b5-56ec2feb0dd0",
   "metadata": {},
   "outputs": [],
   "source": [
    "import numpy as np\n",
    "import skfuzzy as fuzz\n",
    "import matplotlib.pyplot as plt"
   ]
  },
  {
   "cell_type": "markdown",
   "id": "e602e4e9-894a-42b7-8594-6d87504ffb1d",
   "metadata": {},
   "source": [
    "## Se setean las funciones"
   ]
  },
  {
   "cell_type": "code",
   "execution_count": null,
   "id": "37cf0a2c-7f4c-4449-a303-ba57f8151ffa",
   "metadata": {},
   "outputs": [],
   "source": [
    "def triangular(x, a, b, c):\n",
    "    return np.maximum(np.minimum((x - a) / (b - a), (c - x) / (c - b)), 0)\n",
    "\n",
    "def trapezoidal(x, a, b, c, d):\n",
    "    return np.maximum(np.minimum(np.minimum((x - a)/(b - a), 1), (d - x)/(d - c)), 0)\n",
    "\n",
    "def lineal_asc(x, a, b):\n",
    "    return np.clip((x - a) / (b - a), 0, 1)\n",
    "\n",
    "def lineal_desc(x, a, b):\n",
    "    return np.clip((b - x) / (b - a), 0, 1)\n",
    "\n",
    "def plot_funciones(x, funciones, etiquetas, titulo):\n",
    "    plt.figure(figsize=(8, 4))\n",
    "    for f, etiqueta in zip(funciones, etiquetas):\n",
    "        plt.plot(x, f, label=etiqueta)\n",
    "    plt.title(titulo)\n",
    "    plt.xlabel('Universo de discurso')\n",
    "    plt.ylabel('Grado de pertenencia')\n",
    "    plt.legend()\n",
    "    plt.grid(True)\n",
    "    plt.tight_layout()\n",
    "    plt.show()"
   ]
  },
  {
   "cell_type": "markdown",
   "id": "33e75f0b-5315-4a96-aee3-f9f5f6acf6a8",
   "metadata": {},
   "source": [
    "## Se setean los Conjuntos Difusos para el Conjunto de Datos \"Sequía\""
   ]
  },
  {
   "cell_type": "code",
   "execution_count": null,
   "id": "2ac33a07-c74f-470d-bd86-8a47f061dd1d",
   "metadata": {},
   "outputs": [],
   "source": [
    "# Definimos el rango de valores y la función de pertenencia\n",
    "\n",
    "x = np.linspace(0, 1.5, 1000)\n",
    "\n",
    "bajo = lineal_desc(x, 0, 0.5)\n",
    "medio = triangular(x, 0.3, 0.75, 1.2)\n",
    "alto = lineal_asc(x, 0.8, 1.5)\n",
    "\n",
    "# Graficamos las funciones de pertenencia\n",
    "plot_funciones(x, [bajo, medio, alto], ['Bajo', 'Medio', 'Alto'], 'Funciones de pertenencia: Sequía')"
   ]
  },
  {
   "cell_type": "markdown",
   "id": "e3a0fbd5-ea3d-4744-9704-e0c1342122f5",
   "metadata": {},
   "source": [
    "## Se setean los Conjuntos Difusos para el Conjunto de Datos \"Precipitación\""
   ]
  },
  {
   "cell_type": "code",
   "execution_count": null,
   "id": "0988d9d0",
   "metadata": {},
   "outputs": [],
   "source": [
    "# Definimos el rango de valores y la función de pertenencia\n",
    "\n",
    "x = np.linspace(-100, 60, 1000)\n",
    "precipitacion = lineal_asc(x, -85, 1)\n",
    "\n",
    "# Graficamos\n",
    "plt.figure(figsize=(8, 4))\n",
    "plt.plot(x, precipitacion, label='Precipitación', color='blue', linewidth=2)\n",
    "plt.scatter([-85, 1], [0, 1], color='red')  # Puntos clave\n",
    "plt.title('Función de pertenencia: Precipitación')\n",
    "plt.xlabel('Precipitación (mm)')\n",
    "plt.ylabel('μ(x)')\n",
    "plt.grid(True)\n",
    "plt.legend()\n",
    "plt.tight_layout()\n",
    "plt.show()"
   ]
  },
  {
   "cell_type": "markdown",
   "id": "c6985670-0d0e-4e8f-9931-c0f4cc57989a",
   "metadata": {},
   "source": [
    "## se imprime el promedio de filas"
   ]
  },
  {
   "cell_type": "markdown",
   "id": "b4ac7f7b-713c-4205-8081-948b490d2e31",
   "metadata": {},
   "source": [
    "## se imprime el auto valor"
   ]
  },
  {
   "cell_type": "markdown",
   "id": "0e7ccf38-3bb0-4cb5-928f-69192cd418e6",
   "metadata": {},
   "source": [
    "## se imprime el valor máximo de lambda"
   ]
  },
  {
   "cell_type": "markdown",
   "id": "c90a4e09-00d5-4be1-8653-abdd443cc54e",
   "metadata": {},
   "source": [
    "## se imprime el índice de consistencia"
   ]
  },
  {
   "cell_type": "markdown",
   "id": "4670234c-0c0c-4294-82e9-84d7bcc1555a",
   "metadata": {},
   "source": [
    "## se imprime la relación de consistencia"
   ]
  },
  {
   "cell_type": "markdown",
   "id": "66004024-a9db-4ae3-8211-2e02c9c33967",
   "metadata": {},
   "source": [
    "## se setea la martiz inicial"
   ]
  },
  {
   "cell_type": "code",
   "execution_count": 39,
   "id": "74ccb0ee-b4bc-49fa-bd19-4450cc543ba2",
   "metadata": {},
   "outputs": [],
   "source": [
    "array_inicial = [\n",
    "    [1, 1/7, 5, 1/9],\n",
    "    [7, 1, 7, 1/7],\n",
    "    [1/5, 1/7, 11, 1/7],\n",
    "    [9, 7, 7, 1]\n",
    "]"
   ]
  },
  {
   "cell_type": "markdown",
   "id": "299c1b5d-369b-4f2a-a6a8-47aa7ebe096d",
   "metadata": {},
   "source": [
    "## comienza la ejecución de todas las tareas"
   ]
  },
  {
   "cell_type": "code",
   "execution_count": 43,
   "id": "180f97f6-1e17-4d56-aa62-4a8588de7049",
   "metadata": {},
   "outputs": [
    {
     "name": "stdout",
     "output_type": "stream",
     "text": [
      "-  Matríz inicial:  [[ 1.          0.14285714  5.          0.11111111]\n",
      " [ 7.          1.          7.          0.14285714]\n",
      " [ 0.2         0.14285714 11.          0.14285714]\n",
      " [ 9.          7.          7.          1.        ]]\n",
      "-  Dimensión de la matríz:  2\n",
      "-  Tamaño de la matríz:  (4, 4)\n",
      "-  Suma de las columnas de la matríz:  [17.2         8.28571429 30.          1.3968254 ]\n",
      "-  Matríz normalizada:  [[0.04844254 0.00692036 0.24221271 0.0053825 ]\n",
      " [0.33909779 0.04844254 0.33909779 0.00692036]\n",
      " [0.00968851 0.00692036 0.53286795 0.00692036]\n",
      " [0.43598287 0.33909779 0.33909779 0.04844254]]\n",
      "-  Suma de las filas de la matríz:  [0.30295812 0.73355848 0.55639719 1.16262099]\n",
      "-  Suma de las columnas de la matríz:  [0.83321171 0.40138106 1.45327624 0.06766577]\n"
     ]
    }
   ],
   "source": [
    "def realiza_calculos():\n",
    "    # se setea la matriz inicial\n",
    "    matriz = np.array(array_inicial, float)\n",
    "\n",
    "    # se imprimen los datos de la matriz inicial y la matriz normalizada\n",
    "    imprimir_datos(matriz)\n",
    "\n",
    "realiza_calculos()"
   ]
  },
  {
   "cell_type": "code",
   "execution_count": null,
   "id": "884d05cc-4d33-4d97-8257-1b2f56720573",
   "metadata": {},
   "outputs": [],
   "source": []
  }
 ],
 "metadata": {
  "kernelspec": {
   "display_name": "Python 3 (ipykernel)",
   "language": "python",
   "name": "python3"
  },
  "language_info": {
   "codemirror_mode": {
    "name": "ipython",
    "version": 3
   },
   "file_extension": ".py",
   "mimetype": "text/x-python",
   "name": "python",
   "nbconvert_exporter": "python",
   "pygments_lexer": "ipython3",
   "version": "3.12.7"
  }
 },
 "nbformat": 4,
 "nbformat_minor": 5
}
